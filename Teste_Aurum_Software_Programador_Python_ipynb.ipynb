{
  "nbformat": 4,
  "nbformat_minor": 0,
  "metadata": {
    "colab": {
      "name": "Teste Aurum Sfotware Programador Python ipynb",
      "provenance": [],
      "collapsed_sections": []
    },
    "kernelspec": {
      "name": "python3",
      "display_name": "Python 3"
    }
  },
  "cells": [
    {
      "cell_type": "markdown",
      "metadata": {
        "id": "suIIJiP0c-HG"
      },
      "source": [
        "# Robô empilhador de blocos\n",
        "\n",
        "Nós criamos um robô que move blocos de uma pilha, move eles horizontalmente e depois desce eles até  a primeira posição disponível. Existem 10 posições disponíveis para descer os blocos, numeradas de 0 a 9 e cada posição suporta até 15 blocos.\n",
        "\n",
        "<img src=\"https://i.ibb.co/MRN0CLJ/Screen-Shot-2018-08-08-at-09-30-43.png\" alt=\"Screen-Shot-2018-08-08-at-09-30-43\" width=\"600\" height=\"290\" border=\"0\">\n",
        "\n",
        "O Robô só entende os seguintes comando 'P', 'M'  e 'D'\n",
        "- **P**: Pegar na pilha e mover para posição 0\n",
        "- **M**: Mover para a próxima posição\n",
        "- **D**: Descer e empilhar o bloco\n",
        "\n",
        "O Robô deve respeitar as seguintes regras:\n",
        "- Sempre existem blocos disponíveis para pegar\n",
        "- Se o robô já está segurando um bloco ele retorna a posição 0\n",
        "- Ele não ultrapassa a posição 9, o comando M na posição 9 não faz nada\n",
        "- Em uma pilha com 15 blocos o comando D não faz nada\n",
        "- Se o robô nao tiver nenhum bloco o comando D não faz nada\n",
        "- O Robô ignora qualquer comando que não seja **P**, **M** ou **D**\n"
      ]
    },
    {
      "cell_type": "markdown",
      "metadata": {
        "id": "oOZ--ea8gORx"
      },
      "source": [
        "## Exercício \n",
        "Complete o método **empilha_blocos**, que recebe uma string chamada **comandos** como entrada, representando os comandos para o Robô. O método deve retornar uma string representando a quantidade de blocos em cada posição após executar todos os comandos.\n",
        "<br>Entrada = \"**PMDPMMMDPMDPMMD**\"\n",
        "<br>Saída = \"**0211000000**\"\n",
        "\n",
        "<br>Boa sorte 🤞"
      ]
    },
    {
      "cell_type": "code",
      "metadata": {
        "id": "geDqaat9z9SM",
        "colab": {
          "base_uri": "https://localhost:8080/",
          "height": 36
        },
        "outputId": "b4a86852-d681-4a69-c106-14d63bac2a71"
      },
      "source": [
        "def empilha_blocos(comandos):\n",
        "    blocos = [0 for _ in range(9)]\n",
        "    blocos_count = 0\n",
        "    for i in range(len(comandos)):\n",
        "        if comandos[i] == \"P\":\n",
        "            for j in range(i+1, len(comandos)):\n",
        "                if comandos[j] == \"M\" and blocos_count < 8:\n",
        "                    blocos_count +=1\n",
        "                elif comandos[j] == \"D\" and blocos[blocos_count] < 15:\n",
        "                    blocos[blocos_count] += 1\n",
        "                    blocos_count = 0\n",
        "                    break\n",
        "    blocos_str = \"\"\n",
        "    for x in blocos:\n",
        "        blocos_str+= str(x)\n",
        "    return blocos_str\n",
        "\n",
        "# Testes\n",
        "\n",
        "# empilha_blocos(\"MDPMMMDPMDPMMD\")\n",
        "# empilha_blocos(\"MDPMMMMMMMMMMMD\")\n",
        "# empilha_blocos(\"\")\n",
        "# empilha_blocos(\"PMDPMDPMDPMDPMDPMDPMDPMDPMDPMDPMDPMDPMDPMDPMDPMDPMDPMDPMDPMD\")\n",
        "# empilha_blocos(\"PMDPMMMDPMDPMMD\") \n"
      ],
      "execution_count": 3,
      "outputs": [
        {
          "output_type": "execute_result",
          "data": {
            "application/vnd.google.colaboratory.intrinsic+json": {
              "type": "string"
            },
            "text/plain": [
              "'0154000000'"
            ]
          },
          "metadata": {
            "tags": []
          },
          "execution_count": 3
        }
      ]
    }
  ]
}