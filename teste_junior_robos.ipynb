{
  "nbformat": 4,
  "nbformat_minor": 0,
  "metadata": {
    "colab": {
      "name": "teste-junior-robos.ipynb",
      "provenance": [],
      "collapsed_sections": []
    },
    "kernelspec": {
      "name": "python3",
      "display_name": "Python 3"
    }
  },
  "cells": [
    {
      "cell_type": "markdown",
      "metadata": {
        "id": "Z5i8BzpTunz8"
      },
      "source": [
        "# **Teste para Desenvolvedor Júnior - equipe de robôs**\n",
        "Para garantir a capacidade técnica, de pesquisa e solução de problemas dos candidatos que passam para a próxima etapa, elaboramos este notebook com três exercícios de preenchimento de código (completar métodos ou trechos de código). <br>\n",
        "É importatíssimo o candidato se atentar as dicas e exemplos (quando houver) em cada exercício, nestas células estão a solução de boa parte do problema. <br>\n",
        "Respostas incompletas ou com detalhes faltando também serão avaliados desde que o código funcione sem erro.\n"
      ]
    },
    {
      "cell_type": "markdown",
      "metadata": {
        "id": "jx6UImCW4Zb8"
      },
      "source": [
        "## **Exercício 1 - Manipulação de texto**\n",
        "Este exercício consiste em implementar o método **troca_dupla_da_ana** que recebe dois argumentos: frase e nova_pessoa. O método deverá achar ocorrências da dupla de ana na frase e trocar a dupla de ana pelo conteúdo do argumento 'nova_pessoa'. obs: a dupla da ana pode ter qualquer tipo de valor que contenha uma palavra só.\n",
        "Exemplo:\n",
        "```python\n",
        "frase = 'Ana e Claudia fizeram um trabalho excelente. Após terminarem, Claudia e Ana foram comemorar mas Ana saiu mais cedo'\n",
        "troca_dupla_da_ana(frase, 'Sandra')\n",
        "```\n",
        "O código acima deveria retornar o seguinte texto:<br>\n",
        " [<font color=\"blue\">](https://)Ana e Sandra fizeram um trabalho excelente. Após terminarem, Sandra e Ana foram comemorar mas Ana saiu mais cedo</font>"
      ]
    },
    {
      "cell_type": "markdown",
      "metadata": {
        "id": "DS3Iimbtn6WM"
      },
      "source": [
        "<font color=\"green\">**Dicas**</font><br>\n",
        "Para escrever este método pode ser utilizado manipulação de strings com loops ou recursividade. Ou pode ser usado expressões regulares com o método **re.sub** do módulo **re**. Esta última é mais compacta, no entanto exige conecimento básico de expressões regulares e de ler a [documentação do método **re.sub**](https://docs.python.org/3/library/re.html#re.sub). \n",
        "\n",
        "*obs: as duas soluções citadas terão peso igual na avaliação.*\n"
      ]
    },
    {
      "cell_type": "markdown",
      "metadata": {
        "id": "fn3V7RDdtiJb"
      },
      "source": [
        "### **Resposta:**"
      ]
    },
    {
      "cell_type": "code",
      "metadata": {
        "id": "3o5U6wZu431x",
        "outputId": "bdcc06f0-6079-4d32-bf21-d1183fa7014c",
        "colab": {
          "base_uri": "https://localhost:8080/",
          "height": 35
        }
      },
      "source": [
        "import re\n",
        "\n",
        "def troca_dupla_da_ana(frase, nova_pessoa):\n",
        "    frase_filtro = re.sub(\"[.,]\", \"\", frase)\n",
        "    frase_filtro = re.split(\"\\s\", frase_filtro)\n",
        "    \n",
        "    dupla_ana = []\n",
        "    for i in range(len(frase_filtro)):\n",
        "        if frase_filtro[i] == \"e\":\n",
        "            if frase_filtro[i-1] == \"Ana\":\n",
        "                dupla_ana.append(frase_filtro[i+1])\n",
        "            else:\n",
        "                dupla_ana.append(frase_filtro[i-1])\n",
        "    \n",
        "    nova_frase = frase\n",
        "    for i in range(len(dupla_ana)):\n",
        "        nova_frase = re.sub(dupla_ana[i], nova_pessoa, nova_frase)\n",
        "    \n",
        "    return nova_frase\n",
        "\n",
        "frase = 'Ana e Caudia fizeram um trabalho excelente. Após terminarem, Claudia e Ana foram comemorar mas Ana saiu mais cedo'\n",
        "troca_dupla_da_ana(frase, 'Sandra')"
      ],
      "execution_count": null,
      "outputs": [
        {
          "output_type": "execute_result",
          "data": {
            "application/vnd.google.colaboratory.intrinsic+json": {
              "type": "string"
            },
            "text/plain": [
              "'Ana e Sandra fizeram um trabalho excelente. Após terminarem, Sandra e Ana foram comemorar mas Ana saiu mais cedo'"
            ]
          },
          "metadata": {
            "tags": []
          },
          "execution_count": 18
        }
      ]
    },
    {
      "cell_type": "markdown",
      "metadata": {
        "id": "QK-_EcL0RUP5"
      },
      "source": [
        "## **Exercício 2 - Crawler**\n",
        "Este exercício consiste em implementar o método 'exibe_primeira_imagem' o qual será responsável por exibir a primeira imagem de uma pesquisa do termo fornecido pelo argumento 'termo_de_pesquisa'."
      ]
    },
    {
      "cell_type": "markdown",
      "metadata": {
        "id": "d2kVlnAXzBlV"
      },
      "source": [
        "<font color=\"green\">**Dicas**</font><br>\n",
        "1. Um exemplo de url que pesquisa 'pato' no google imagens é: https://www.google.co.in/search?q=pato&source=lnms&tbm=isch\n",
        "2. Para fazer a requisição que acessa o Google Imagens pode ser utilizado a bibliotea **requests**\n",
        "3. Para selecionar o o link da primeira imagem do resultado de pesquisa da página trazida pela biblioteca requests pode ser utilizado a biblioteca **BeautifulSoup**"
      ]
    },
    {
      "cell_type": "markdown",
      "metadata": {
        "id": "FaM95johOAJL"
      },
      "source": [
        "**Exemplo de código que exibe uma imagem pela url em um notebook:**"
      ]
    },
    {
      "cell_type": "code",
      "metadata": {
        "id": "sWUBOFIeOHlG",
        "outputId": "7bab517b-3457-47cb-ec30-0318e57bb7cd",
        "colab": {
          "base_uri": "https://localhost:8080/",
          "height": 383
        }
      },
      "source": [
        "from IPython.display import Image\n",
        "Image(url='https://www.tenhomaisdiscosqueamigos.com/wp-content/uploads/2020/04/the-midnight-gospel.jpg')"
      ],
      "execution_count": null,
      "outputs": [
        {
          "output_type": "execute_result",
          "data": {
            "text/html": [
              "<img src=\"https://www.tenhomaisdiscosqueamigos.com/wp-content/uploads/2020/04/the-midnight-gospel.jpg\"/>"
            ],
            "text/plain": [
              "<IPython.core.display.Image object>"
            ]
          },
          "metadata": {
            "tags": []
          },
          "execution_count": 2
        }
      ]
    },
    {
      "cell_type": "markdown",
      "metadata": {
        "id": "lRF5yn8GttbR"
      },
      "source": [
        "### **Resposta:**"
      ]
    },
    {
      "cell_type": "code",
      "metadata": {
        "id": "iQBz1no19VSd",
        "outputId": "961ad8a5-ac45-4139-fa0e-1c8ca83f1d6e",
        "colab": {
          "base_uri": "https://localhost:8080/",
          "height": 161
        }
      },
      "source": [
        "from bs4 import BeautifulSoup\n",
        "from IPython.display import Image\n",
        "import requests\n",
        "\n",
        "def exibe_primeira_imagem(termo_de_pesquisa):\n",
        "    pesquisa = re.sub(\"\\s\", \"+\", termo_de_pesquisa)\n",
        "    payload = {\n",
        "        'q': pesquisa, \n",
        "        'source': 'lnms', \n",
        "        'tbm': 'isch'\n",
        "    }\n",
        "\n",
        "    response = requests.get(\"https://www.google.com/search?\", params=payload)\n",
        "    html = response.content\n",
        "    soup = BeautifulSoup(html, 'html.parser')\n",
        "    \n",
        "    link_image = []\n",
        "    for i in soup.find_all('img'):\n",
        "        link = i.get('src')\n",
        "        if link:\n",
        "            link_image.append(link)       \n",
        "    \n",
        "    link_image = link_image[1:]\n",
        "    return Image(url=link_image[0])        \n",
        "\n",
        "exibe_primeira_imagem('rick and morty')"
      ],
      "execution_count": null,
      "outputs": [
        {
          "output_type": "execute_result",
          "data": {
            "text/html": [
              "<img src=\"https://encrypted-tbn0.gstatic.com/images?q=tbn:ANd9GcRUy2pSXz6Ypw0MiNUazwVTxg3juK1gnXBqsMGq55kwMoUaeXjuT42TwJUSiw&s\"/>"
            ],
            "text/plain": [
              "<IPython.core.display.Image object>"
            ]
          },
          "metadata": {
            "tags": []
          },
          "execution_count": 17
        }
      ]
    },
    {
      "cell_type": "markdown",
      "metadata": {
        "id": "pUDMq-367Rad"
      },
      "source": [
        "## **Exercício 3 - Numpy e Álgebra Linear**\n",
        "Este exercício consiste em exibir uma matriz de 50 X 50 com numpy e pyplot que deve gerar a seguinte imagem:<br>\n",
        "![Image a ser gerada e exibida com pyplot](https://i.ibb.co/dKpjTzM/exercicio3.png)"
      ]
    },
    {
      "cell_type": "markdown",
      "metadata": {
        "id": "cJ3GX-iSRtd0"
      },
      "source": [
        "<font color=\"green\">**Dicas**</font><br>\n",
        "Este exercício pode ter 2 soluções para resolver: \n",
        "* A fácil que usa conceitos de transformações de tipos matrizes e os recursos do numpy relacionados ao domínio algebra linear\n",
        "* A difícil que é fazendo um algoritmo que percorre os elementos da matriz do numpy (np.array) e atribui a cada elemento um valor de zero a 255<br>\n",
        "* Imagens coloridas são exibidas no matplotlib com matrizes de 3 dimenssões: eixos x e y que representam a posição e o código RGB, o qual representa a cor\n"
      ]
    },
    {
      "cell_type": "markdown",
      "metadata": {
        "id": "R-ZO3HPfQzap"
      },
      "source": [
        "**Exemplo de código que exibe uma imagem através do numpy e matplotlib:**"
      ]
    },
    {
      "cell_type": "code",
      "metadata": {
        "id": "8VvuflEn7XpB"
      },
      "source": [
        "import numpy as np\n",
        "import matplotlib.pyplot as plt\n",
        "\n",
        "%matplotlib inline\n",
        "colors = np.linspace(0, 255, 50, dtype=np.uint8)[:, None] * np.array([[1, 0, 0]])\n",
        "box = colors * np.ones(50, dtype=np.uint8)[:, None, None]\n",
        "plt.imshow(box)"
      ],
      "execution_count": null,
      "outputs": []
    },
    {
      "cell_type": "markdown",
      "metadata": {
        "id": "tQ9Q3yXJUrdC"
      },
      "source": [
        "### **Resposta:**"
      ]
    },
    {
      "cell_type": "code",
      "metadata": {
        "id": "4heVk_vuBTH2"
      },
      "source": [
        "# Escreva o código da resposta aqui\n"
      ],
      "execution_count": null,
      "outputs": []
    }
  ]
}